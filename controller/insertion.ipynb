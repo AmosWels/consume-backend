{
 "cells": [
  {
   "cell_type": "code",
   "execution_count": 1,
   "metadata": {},
   "outputs": [],
   "source": [
    "import psycopg2 as pg"
   ]
  },
  {
   "cell_type": "code",
   "execution_count": 8,
   "metadata": {},
   "outputs": [],
   "source": [
    "import pandas as pd\n",
    "import psycopg2\n",
    "import sqlalchemy\n",
    "import matplotlib as plt\n",
    "\n",
    "%matplotlib inline"
   ]
  },
  {
   "cell_type": "code",
   "execution_count": 9,
   "metadata": {},
   "outputs": [
    {
     "name": "stdout",
     "output_type": "stream",
     "text": [
      "Collecting package metadata (current_repodata.json): done\n",
      "Solving environment: done\n",
      "\n",
      "# All requested packages already installed.\n",
      "\n",
      "\n",
      "Note: you may need to restart the kernel to use updated packages.\n"
     ]
    }
   ],
   "source": [
    "conda install psycopg2"
   ]
  },
  {
   "cell_type": "code",
   "execution_count": 10,
   "metadata": {},
   "outputs": [],
   "source": [
    "from sqlalchemy import create_engine"
   ]
  },
  {
   "cell_type": "code",
   "execution_count": 11,
   "metadata": {},
   "outputs": [],
   "source": [
    "# Postgres username, password, and database name\n",
    "POSTGRES_PORT = '5432'\n",
    "POSTGRES_USERNAME = 'postgres' \n",
    "POSTGRES_PASSWORD = ''\n",
    "POSTGRES_ADDRESS = 'localhost'\n",
    "POSTGRES_DBNAME  = 'consume'"
   ]
  },
  {
   "cell_type": "code",
   "execution_count": 12,
   "metadata": {},
   "outputs": [],
   "source": [
    "# A long string that contains the necessary Postgres login information\n",
    "postgres_str = ('postgresql://{username}:{password}@{ipaddress}:{port}/{dbname}'\n",
    ".format(username=POSTGRES_USERNAME,\n",
    "        password=POSTGRES_PASSWORD,\n",
    "        ipaddress=POSTGRES_ADDRESS,\n",
    "        port=POSTGRES_PORT,\n",
    "        dbname=POSTGRES_DBNAME))"
   ]
  },
  {
   "cell_type": "code",
   "execution_count": 13,
   "metadata": {},
   "outputs": [],
   "source": [
    "# Create the connection\n",
    "cnx = create_engine(postgres_str)"
   ]
  },
  {
   "cell_type": "code",
   "execution_count": 14,
   "metadata": {},
   "outputs": [
    {
     "data": {
      "text/html": [
       "<div>\n",
       "<style scoped>\n",
       "    .dataframe tbody tr th:only-of-type {\n",
       "        vertical-align: middle;\n",
       "    }\n",
       "\n",
       "    .dataframe tbody tr th {\n",
       "        vertical-align: top;\n",
       "    }\n",
       "\n",
       "    .dataframe thead th {\n",
       "        text-align: right;\n",
       "    }\n",
       "</style>\n",
       "<table border=\"1\" class=\"dataframe\">\n",
       "  <thead>\n",
       "    <tr style=\"text-align: right;\">\n",
       "      <th></th>\n",
       "      <th>id</th>\n",
       "      <th>end_of_period</th>\n",
       "      <th>loan_number</th>\n",
       "      <th>country_code</th>\n",
       "      <th>country</th>\n",
       "      <th>borrower</th>\n",
       "      <th>guarantor_country_code</th>\n",
       "      <th>guarantor</th>\n",
       "      <th>loan_status</th>\n",
       "      <th>currency_of_commitment</th>\n",
       "      <th>...</th>\n",
       "      <th>agreement_signing_date</th>\n",
       "      <th>board_approval_date</th>\n",
       "      <th>effective_date</th>\n",
       "      <th>closed_date</th>\n",
       "      <th>last_disbursement_date</th>\n",
       "      <th>loan_type</th>\n",
       "      <th>region</th>\n",
       "      <th>interest_rate</th>\n",
       "      <th>project_id</th>\n",
       "      <th>repaid_to_ibrd</th>\n",
       "    </tr>\n",
       "  </thead>\n",
       "  <tbody>\n",
       "    <tr>\n",
       "      <td>0</td>\n",
       "      <td>169195</td>\n",
       "      <td>2014-07-31T00:00:00.000</td>\n",
       "      <td>IBRD14995</td>\n",
       "      <td>ID</td>\n",
       "      <td>Indonesia</td>\n",
       "      <td>Ministry of Finance</td>\n",
       "      <td>ID</td>\n",
       "      <td>Indonesia</td>\n",
       "      <td>Repaid</td>\n",
       "      <td>None</td>\n",
       "      <td>...</td>\n",
       "      <td>1981-03-30T00:00:00.000</td>\n",
       "      <td>1977-11-15T00:00:00.000</td>\n",
       "      <td>1981-05-20T00:00:00.000</td>\n",
       "      <td>1984-06-30T00:00:00.000</td>\n",
       "      <td>None</td>\n",
       "      <td>POOL LOAN</td>\n",
       "      <td>East Asia and Pacific</td>\n",
       "      <td>7.9</td>\n",
       "      <td>P003771</td>\n",
       "      <td>33722906.15</td>\n",
       "    </tr>\n",
       "    <tr>\n",
       "      <td>1</td>\n",
       "      <td>169196</td>\n",
       "      <td>2014-08-31T00:00:00.000</td>\n",
       "      <td>IBRD14995</td>\n",
       "      <td>ID</td>\n",
       "      <td>Indonesia</td>\n",
       "      <td>Ministry of Finance</td>\n",
       "      <td>ID</td>\n",
       "      <td>Indonesia</td>\n",
       "      <td>Repaid</td>\n",
       "      <td>None</td>\n",
       "      <td>...</td>\n",
       "      <td>1981-03-30T00:00:00.000</td>\n",
       "      <td>1977-11-15T00:00:00.000</td>\n",
       "      <td>1981-05-20T00:00:00.000</td>\n",
       "      <td>1984-06-30T00:00:00.000</td>\n",
       "      <td>None</td>\n",
       "      <td>POOL LOAN</td>\n",
       "      <td>East Asia and Pacific</td>\n",
       "      <td>7.9</td>\n",
       "      <td>P003771</td>\n",
       "      <td>33722906.15</td>\n",
       "    </tr>\n",
       "    <tr>\n",
       "      <td>2</td>\n",
       "      <td>169197</td>\n",
       "      <td>2014-09-30T00:00:00.000</td>\n",
       "      <td>IBRD14995</td>\n",
       "      <td>ID</td>\n",
       "      <td>Indonesia</td>\n",
       "      <td>Ministry of Finance</td>\n",
       "      <td>ID</td>\n",
       "      <td>Indonesia</td>\n",
       "      <td>Repaid</td>\n",
       "      <td>None</td>\n",
       "      <td>...</td>\n",
       "      <td>1981-03-30T00:00:00.000</td>\n",
       "      <td>1977-11-15T00:00:00.000</td>\n",
       "      <td>1981-05-20T00:00:00.000</td>\n",
       "      <td>1984-06-30T00:00:00.000</td>\n",
       "      <td>None</td>\n",
       "      <td>POOL LOAN</td>\n",
       "      <td>East Asia and Pacific</td>\n",
       "      <td>7.9</td>\n",
       "      <td>P003771</td>\n",
       "      <td>33722906.15</td>\n",
       "    </tr>\n",
       "    <tr>\n",
       "      <td>3</td>\n",
       "      <td>169198</td>\n",
       "      <td>2014-10-31T00:00:00.000</td>\n",
       "      <td>IBRD14995</td>\n",
       "      <td>ID</td>\n",
       "      <td>Indonesia</td>\n",
       "      <td>Ministry of Finance</td>\n",
       "      <td>ID</td>\n",
       "      <td>Indonesia</td>\n",
       "      <td>Repaid</td>\n",
       "      <td>None</td>\n",
       "      <td>...</td>\n",
       "      <td>1981-03-30T00:00:00.000</td>\n",
       "      <td>1977-11-15T00:00:00.000</td>\n",
       "      <td>1981-05-20T00:00:00.000</td>\n",
       "      <td>1984-06-30T00:00:00.000</td>\n",
       "      <td>None</td>\n",
       "      <td>POOL LOAN</td>\n",
       "      <td>East Asia and Pacific</td>\n",
       "      <td>7.9</td>\n",
       "      <td>P003771</td>\n",
       "      <td>33722906.15</td>\n",
       "    </tr>\n",
       "    <tr>\n",
       "      <td>4</td>\n",
       "      <td>169199</td>\n",
       "      <td>2014-11-30T00:00:00.000</td>\n",
       "      <td>IBRD14995</td>\n",
       "      <td>ID</td>\n",
       "      <td>Indonesia</td>\n",
       "      <td>Ministry of Finance</td>\n",
       "      <td>ID</td>\n",
       "      <td>Indonesia</td>\n",
       "      <td>Repaid</td>\n",
       "      <td>None</td>\n",
       "      <td>...</td>\n",
       "      <td>1981-03-30T00:00:00.000</td>\n",
       "      <td>1977-11-15T00:00:00.000</td>\n",
       "      <td>1981-05-20T00:00:00.000</td>\n",
       "      <td>1984-06-30T00:00:00.000</td>\n",
       "      <td>None</td>\n",
       "      <td>POOL LOAN</td>\n",
       "      <td>East Asia and Pacific</td>\n",
       "      <td>7.9</td>\n",
       "      <td>P003771</td>\n",
       "      <td>33722906.15</td>\n",
       "    </tr>\n",
       "  </tbody>\n",
       "</table>\n",
       "<p>5 rows × 34 columns</p>\n",
       "</div>"
      ],
      "text/plain": [
       "       id            end_of_period loan_number country_code    country  \\\n",
       "0  169195  2014-07-31T00:00:00.000   IBRD14995           ID  Indonesia   \n",
       "1  169196  2014-08-31T00:00:00.000   IBRD14995           ID  Indonesia   \n",
       "2  169197  2014-09-30T00:00:00.000   IBRD14995           ID  Indonesia   \n",
       "3  169198  2014-10-31T00:00:00.000   IBRD14995           ID  Indonesia   \n",
       "4  169199  2014-11-30T00:00:00.000   IBRD14995           ID  Indonesia   \n",
       "\n",
       "              borrower guarantor_country_code  guarantor loan_status  \\\n",
       "0  Ministry of Finance                     ID  Indonesia      Repaid   \n",
       "1  Ministry of Finance                     ID  Indonesia      Repaid   \n",
       "2  Ministry of Finance                     ID  Indonesia      Repaid   \n",
       "3  Ministry of Finance                     ID  Indonesia      Repaid   \n",
       "4  Ministry of Finance                     ID  Indonesia      Repaid   \n",
       "\n",
       "  currency_of_commitment  ...   agreement_signing_date  \\\n",
       "0                   None  ...  1981-03-30T00:00:00.000   \n",
       "1                   None  ...  1981-03-30T00:00:00.000   \n",
       "2                   None  ...  1981-03-30T00:00:00.000   \n",
       "3                   None  ...  1981-03-30T00:00:00.000   \n",
       "4                   None  ...  1981-03-30T00:00:00.000   \n",
       "\n",
       "       board_approval_date           effective_date              closed_date  \\\n",
       "0  1977-11-15T00:00:00.000  1981-05-20T00:00:00.000  1984-06-30T00:00:00.000   \n",
       "1  1977-11-15T00:00:00.000  1981-05-20T00:00:00.000  1984-06-30T00:00:00.000   \n",
       "2  1977-11-15T00:00:00.000  1981-05-20T00:00:00.000  1984-06-30T00:00:00.000   \n",
       "3  1977-11-15T00:00:00.000  1981-05-20T00:00:00.000  1984-06-30T00:00:00.000   \n",
       "4  1977-11-15T00:00:00.000  1981-05-20T00:00:00.000  1984-06-30T00:00:00.000   \n",
       "\n",
       "  last_disbursement_date  loan_type                 region interest_rate  \\\n",
       "0                   None  POOL LOAN  East Asia and Pacific           7.9   \n",
       "1                   None  POOL LOAN  East Asia and Pacific           7.9   \n",
       "2                   None  POOL LOAN  East Asia and Pacific           7.9   \n",
       "3                   None  POOL LOAN  East Asia and Pacific           7.9   \n",
       "4                   None  POOL LOAN  East Asia and Pacific           7.9   \n",
       "\n",
       "  project_id repaid_to_ibrd  \n",
       "0    P003771    33722906.15  \n",
       "1    P003771    33722906.15  \n",
       "2    P003771    33722906.15  \n",
       "3    P003771    33722906.15  \n",
       "4    P003771    33722906.15  \n",
       "\n",
       "[5 rows x 34 columns]"
      ]
     },
     "execution_count": 14,
     "metadata": {},
     "output_type": "execute_result"
    }
   ],
   "source": [
    "country_data= pd.read_sql_query('''SELECT * FROM loans;''',cnx) \n",
    "country_data.head()"
   ]
  },
  {
   "cell_type": "code",
   "execution_count": 15,
   "metadata": {},
   "outputs": [
    {
     "data": {
      "text/html": [
       "<div>\n",
       "<style scoped>\n",
       "    .dataframe tbody tr th:only-of-type {\n",
       "        vertical-align: middle;\n",
       "    }\n",
       "\n",
       "    .dataframe tbody tr th {\n",
       "        vertical-align: top;\n",
       "    }\n",
       "\n",
       "    .dataframe thead th {\n",
       "        text-align: right;\n",
       "    }\n",
       "</style>\n",
       "<table border=\"1\" class=\"dataframe\">\n",
       "  <thead>\n",
       "    <tr style=\"text-align: right;\">\n",
       "      <th></th>\n",
       "      <th>country</th>\n",
       "      <th>code</th>\n",
       "      <th>status</th>\n",
       "      <th>interest</th>\n",
       "      <th>date</th>\n",
       "    </tr>\n",
       "  </thead>\n",
       "  <tbody>\n",
       "    <tr>\n",
       "      <td>0</td>\n",
       "      <td>Indonesia</td>\n",
       "      <td>ID</td>\n",
       "      <td>Repaid</td>\n",
       "      <td>7.9</td>\n",
       "      <td>1984-06-30T00:00:00.000</td>\n",
       "    </tr>\n",
       "    <tr>\n",
       "      <td>1</td>\n",
       "      <td>Indonesia</td>\n",
       "      <td>ID</td>\n",
       "      <td>Repaid</td>\n",
       "      <td>7.9</td>\n",
       "      <td>1984-06-30T00:00:00.000</td>\n",
       "    </tr>\n",
       "    <tr>\n",
       "      <td>2</td>\n",
       "      <td>Indonesia</td>\n",
       "      <td>ID</td>\n",
       "      <td>Repaid</td>\n",
       "      <td>7.9</td>\n",
       "      <td>1984-06-30T00:00:00.000</td>\n",
       "    </tr>\n",
       "    <tr>\n",
       "      <td>3</td>\n",
       "      <td>Indonesia</td>\n",
       "      <td>ID</td>\n",
       "      <td>Repaid</td>\n",
       "      <td>7.9</td>\n",
       "      <td>1984-06-30T00:00:00.000</td>\n",
       "    </tr>\n",
       "    <tr>\n",
       "      <td>4</td>\n",
       "      <td>Indonesia</td>\n",
       "      <td>ID</td>\n",
       "      <td>Repaid</td>\n",
       "      <td>7.9</td>\n",
       "      <td>1984-06-30T00:00:00.000</td>\n",
       "    </tr>\n",
       "  </tbody>\n",
       "</table>\n",
       "</div>"
      ],
      "text/plain": [
       "     country code  status interest                     date\n",
       "0  Indonesia   ID  Repaid      7.9  1984-06-30T00:00:00.000\n",
       "1  Indonesia   ID  Repaid      7.9  1984-06-30T00:00:00.000\n",
       "2  Indonesia   ID  Repaid      7.9  1984-06-30T00:00:00.000\n",
       "3  Indonesia   ID  Repaid      7.9  1984-06-30T00:00:00.000\n",
       "4  Indonesia   ID  Repaid      7.9  1984-06-30T00:00:00.000"
      ]
     },
     "execution_count": 15,
     "metadata": {},
     "output_type": "execute_result"
    }
   ],
   "source": [
    "country_loan_status = pd.read_sql_query(\"\"\"SELECT country as country, country_code as code, loan_status as status, interest_rate as interest, closed_date as date FROM loans\"\"\", cnx)\n",
    "country_loan_status.head()"
   ]
  },
  {
   "cell_type": "code",
   "execution_count": 16,
   "metadata": {},
   "outputs": [
    {
     "data": {
      "text/plain": [
       "<matplotlib.axes._subplots.AxesSubplot at 0x14ff28490>"
      ]
     },
     "execution_count": 16,
     "metadata": {},
     "output_type": "execute_result"
    },
    {
     "data": {
      "image/png": "[encoded data removed]",
      "text/plain": [
       "<Figure size 432x288 with 1 Axes>"
      ]
     },
     "metadata": {
      "needs_background": "light"
     },
     "output_type": "display_data"
    }
   ],
   "source": [
    "country_loan_status.interest.hist()"
   ]
  },
  {
   "cell_type": "code",
   "execution_count": 17,
   "metadata": {},
   "outputs": [
    {
     "data": {
      "text/plain": [
       "<matplotlib.axes._subplots.AxesSubplot at 0x16f1a7f90>"
      ]
     },
     "execution_count": 17,
     "metadata": {},
     "output_type": "execute_result"
    },
    {
     "data": {
      "image/png": "[encoded data removed]",
      "text/plain": [
       "<Figure size 432x288 with 1 Axes>"
      ]
     },
     "metadata": {
      "needs_background": "light"
     },
     "output_type": "display_data"
    }
   ],
   "source": [
    "country_loan_status.interest.hist(bins=500)"
   ]
  },
  {
   "cell_type": "code",
   "execution_count": 18,
   "metadata": {},
   "outputs": [
    {
     "data": {
      "text/plain": [
       "<matplotlib.axes._subplots.AxesSubplot at 0x13d41d950>"
      ]
     },
     "execution_count": 18,
     "metadata": {},
     "output_type": "execute_result"
    },
    {
     "data": {
      "image/png": "[encoded data removed]",
      "text/plain": [
       "<Figure size 432x288 with 1 Axes>"
      ]
     },
     "metadata": {
      "needs_background": "light"
     },
     "output_type": "display_data"
    }
   ],
   "source": [
    "country_loan_status.country.hist()"
   ]
  },
  {
   "cell_type": "code",
   "execution_count": 19,
   "metadata": {},
   "outputs": [
    {
     "data": {
      "text/plain": [
       "<matplotlib.axes._subplots.AxesSubplot at 0x14eab4550>"
      ]
     },
     "execution_count": 19,
     "metadata": {},
     "output_type": "execute_result"
    },
    {
     "data": {
      "image/png": "[encoded data removed]",
      "text/plain": [
       "<Figure size 432x288 with 1 Axes>"
      ]
     },
     "metadata": {
      "needs_background": "light"
     },
     "output_type": "display_data"
    }
   ],
   "source": [
    "country_loan_status.country.hist(bins=500)"
   ]
  },
  {
   "cell_type": "code",
   "execution_count": null,
   "metadata": {},
   "outputs": [],
   "source": []
  }
 ],
 "metadata": {
  "kernelspec": {
   "display_name": "Python 3",
   "language": "python",
   "name": "python3"
  },
  "language_info": {
   "codemirror_mode": {
    "name": "ipython",
    "version": 3
   },
   "file_extension": ".py",
   "mimetype": "text/x-python",
   "name": "python",
   "nbconvert_exporter": "python",
   "pygments_lexer": "ipython3",
   "version": "3.7.4"
  }
 },
 "nbformat": 4,
 "nbformat_minor": 4
}
